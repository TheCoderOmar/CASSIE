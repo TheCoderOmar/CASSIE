{
 "cells": [
  {
   "cell_type": "code",
   "execution_count": 16,
   "metadata": {},
   "outputs": [],
   "source": [
    "import os\n",
    "import json\n",
    "import time\n",
    "import csv\n",
    "import whisper\n",
    "import pandas as pd\n",
    "from tqdm import tqdm"
   ]
  },
  {
   "cell_type": "code",
   "execution_count": 17,
   "metadata": {},
   "outputs": [],
   "source": [
    "from sklearn.feature_extraction.text import TfidfVectorizer\n",
    "from sklearn.metrics.pairwise import cosine_similarity"
   ]
  },
  {
   "cell_type": "code",
   "execution_count": 18,
   "metadata": {},
   "outputs": [],
   "source": [
    "def load_whisper_model(model_size=\"base\"):\n",
    "    return whisper.load_model(model_size)"
   ]
  },
  {
   "cell_type": "code",
   "execution_count": 19,
   "metadata": {},
   "outputs": [],
   "source": [
    "def get_files_in_directory(folder_path, file_extension):\n",
    "    return sorted([f for f in os.listdir(folder_path) if f.endswith(file_extension)])"
   ]
  },
  {
   "cell_type": "code",
   "execution_count": 20,
   "metadata": {},
   "outputs": [],
   "source": [
    "def load_transcription_data(json_file_path):\n",
    "    with open(json_file_path, 'r') as file:\n",
    "        return json.load(file)"
   ]
  },
  {
   "cell_type": "code",
   "execution_count": 21,
   "metadata": {},
   "outputs": [],
   "source": [
    "def get_matching_transcription(transcription_data, sample_name):\n",
    "    return next((item['transcription'] for item in transcription_data if item['sample_name'] == sample_name), None)"
   ]
  },
  {
   "cell_type": "code",
   "execution_count": 22,
   "metadata": {},
   "outputs": [],
   "source": [
    "def transcribe_audio_with_time(model, wav_file_path):\n",
    "    start_time = time.time()\n",
    "    result = model.transcribe(wav_file_path)\n",
    "    end_time = time.time()\n",
    "    transcription_time = end_time - start_time\n",
    "    return result['text'], transcription_time"
   ]
  },
  {
   "cell_type": "code",
   "execution_count": 23,
   "metadata": {},
   "outputs": [],
   "source": [
    "def calculate_cosine_similarity(reference, hypothesis):\n",
    "    vectorizer = TfidfVectorizer().fit_transform([reference, hypothesis])\n",
    "    vectors = vectorizer.toarray()\n",
    "    cos_sim = cosine_similarity(vectors)[0, 1]\n",
    "    return cos_sim"
   ]
  },
  {
   "cell_type": "code",
   "execution_count": 24,
   "metadata": {},
   "outputs": [],
   "source": [
    "def write_results_to_csv_pandas(csv_file_path, results):\n",
    "    df = pd.DataFrame(results, columns=[\"File\", \"Whisper Output\", \"Correct Transcription\", \"Cosine Similarity\", \"Transcription Time\"])\n",
    "    df.to_csv(csv_file_path, index=False)"
   ]
  },
  {
   "cell_type": "code",
   "execution_count": 64,
   "metadata": {},
   "outputs": [],
   "source": [
    "def process_files_and_save_to_csv_pandas(audio_folder_path, transcription_folder_path, model, csv_file_path):\n",
    "    # Ensure the directory exists for saving CSV\n",
    "    os.makedirs(os.path.dirname(csv_file_path), exist_ok=True)\n",
    "\n",
    "    # Get list of audio files and transcription JSON files\n",
    "    wav_files = get_files_in_directory(audio_folder_path, '.wav')\n",
    "    json_files = get_files_in_directory(transcription_folder_path, '.json')\n",
    "    \n",
    "    results = []\n",
    "\n",
    "    # Process each transcription JSON file\n",
    "    for json_file in tqdm(json_files, desc=\"Processing JSON files\", unit=\"file\"):\n",
    "        # Load the transcription data from JSON\n",
    "        json_path = os.path.join(transcription_folder_path, json_file)\n",
    "        transcription_data = load_transcription_data(json_path)\n",
    "        \n",
    "        # Extract base name to match with audio files\n",
    "        base_name = json_file.split(\"_transcription\")[0]  # e.g., \"10_words_sample\"\n",
    "\n",
    "        # Check for 5 samples (both normal and with pause)\n",
    "        for i in range(1, 6):  # Expecting 5 samples\n",
    "            # Construct the expected WAV filename for both with and without pause\n",
    "            wav_file_normal = f\"{base_name}_{i}.wav\"  # e.g., \"10_words_sample_1.wav\"\n",
    "            wav_file_with_pause = f\"{base_name}_with pause_{i}.wav\"  # e.g., \"10_words_sample_with pause_1.wav\"\n",
    "\n",
    "            # Process the normal audio file\n",
    "            wav_path = os.path.join(audio_folder_path, wav_file_normal)\n",
    "            if os.path.exists(wav_path):\n",
    "                sample_name = f\"sample_{i}\"\n",
    "                correct_transcription = get_matching_transcription(transcription_data, sample_name)\n",
    "                if correct_transcription:\n",
    "                    # Transcribe the audio and measure time\n",
    "                    whisper_output, transcription_time = transcribe_audio_with_time(model, wav_path)\n",
    "                    cosine_sim = calculate_cosine_similarity(correct_transcription, whisper_output)\n",
    "                    results.append([wav_file_normal, whisper_output, correct_transcription, cosine_sim, transcription_time])\n",
    "                    print(f\"Processed {wav_file_normal}: Cosine Similarity = {cosine_sim}, Transcription Time = {transcription_time}\")\n",
    "                else:\n",
    "                    print(f\"No matching transcription found for {wav_file_normal} in {json_file}.\")\n",
    "\n",
    "            # Process the audio file with pause\n",
    "            wav_path_with_pause = os.path.join(audio_folder_path, wav_file_with_pause)\n",
    "            if os.path.exists(wav_path_with_pause):\n",
    "                sample_name = f\"sample_{i}\"\n",
    "                correct_transcription = get_matching_transcription(transcription_data, sample_name)\n",
    "                if correct_transcription:\n",
    "                    # Transcribe the audio and measure time\n",
    "                    whisper_output, transcription_time = transcribe_audio_with_time(model, wav_path_with_pause)\n",
    "                    cosine_sim = calculate_cosine_similarity(correct_transcription, whisper_output)\n",
    "                    results.append([wav_file_with_pause, whisper_output, correct_transcription, cosine_sim, transcription_time])\n",
    "                    print(f\"Processed {wav_file_with_pause}: Cosine Similarity = {cosine_sim}, Transcription Time = {transcription_time}\")\n",
    "                else:\n",
    "                    print(f\"No matching transcription found for {wav_file_with_pause} in {json_file}.\")\n",
    "\n",
    "    # Check if results were collected before writing to CSV\n",
    "    if results:\n",
    "        write_results_to_csv_pandas(csv_file_path, results)\n",
    "        print(f\"Results written to {csv_file_path}\")\n",
    "    else:\n",
    "        print(\"No results to write to CSV.\")"
   ]
  },
  {
   "cell_type": "code",
   "execution_count": 53,
   "metadata": {},
   "outputs": [
    {
     "name": "stderr",
     "output_type": "stream",
     "text": [
      "c:\\Conda\\envs\\whisper\\lib\\site-packages\\whisper\\__init__.py:146: FutureWarning: You are using `torch.load` with `weights_only=False` (the current default value), which uses the default pickle module implicitly. It is possible to construct malicious pickle data which will execute arbitrary code during unpickling (See https://github.com/pytorch/pytorch/blob/main/SECURITY.md#untrusted-models for more details). In a future release, the default value for `weights_only` will be flipped to `True`. This limits the functions that could be executed during unpickling. Arbitrary objects will no longer be allowed to be loaded via this mode unless they are explicitly allowlisted by the user via `torch.serialization.add_safe_globals`. We recommend you start setting `weights_only=True` for any use case where you don't have full control of the loaded file. Please open an issue on GitHub for any issues related to this experimental feature.\n",
      "  checkpoint = torch.load(fp, map_location=device)\n"
     ]
    }
   ],
   "source": [
    "model = load_whisper_model(\"base\")"
   ]
  },
  {
   "cell_type": "code",
   "execution_count": 65,
   "metadata": {},
   "outputs": [],
   "source": [
    "audio_folder_path = \"../Voices/Male British (Oliver)\"\n",
    "transcription_folder_path = \"../Voices/Transcription\" \n",
    "csv_file_path1 = \"./proccessed/Oliver_base.csv\""
   ]
  },
  {
   "cell_type": "code",
   "execution_count": 66,
   "metadata": {},
   "outputs": [],
   "source": [
    "import warnings\n",
    "warnings.filterwarnings(\"ignore\", message=\"FP16 is not supported on CPU; using FP32 instead\")"
   ]
  },
  {
   "cell_type": "code",
   "execution_count": 67,
   "metadata": {},
   "outputs": [
    {
     "name": "stderr",
     "output_type": "stream",
     "text": [
      "Processing JSON files:   0%|          | 0/10 [00:00<?, ?file/s]"
     ]
    },
    {
     "name": "stdout",
     "output_type": "stream",
     "text": [
      "Processed 10_words_sample_1.wav: Cosine Similarity = 0.9999999999999999, Transcription Time = 1.4900169372558594\n",
      "Processed 10_words_sample_with pause_1.wav: Cosine Similarity = 0.2716186451929929, Transcription Time = 1.7792437076568604\n",
      "Processed 10_words_sample_2.wav: Cosine Similarity = 0.9999999999999997, Transcription Time = 1.511958360671997\n",
      "Processed 10_words_sample_with pause_2.wav: Cosine Similarity = 0.37491427238345554, Transcription Time = 1.534898281097412\n",
      "Processed 10_words_sample_3.wav: Cosine Similarity = 0.9999999999999999, Transcription Time = 1.5458686351776123\n",
      "Processed 10_words_sample_with pause_3.wav: Cosine Similarity = 0.22576484600261607, Transcription Time = 1.7553083896636963\n",
      "Processed 10_words_sample_4.wav: Cosine Similarity = 0.9999999999999997, Transcription Time = 1.583765983581543\n",
      "Processed 10_words_sample_with pause_4.wav: Cosine Similarity = 0.11914719328677731, Transcription Time = 1.6186738014221191\n",
      "Processed 10_words_sample_5.wav: Cosine Similarity = 1.0000000000000002, Transcription Time = 1.617676019668579\n"
     ]
    },
    {
     "name": "stderr",
     "output_type": "stream",
     "text": [
      "Processing JSON files:  10%|█         | 1/10 [00:16<02:25, 16.12s/file]"
     ]
    },
    {
     "name": "stdout",
     "output_type": "stream",
     "text": [
      "Processed 10_words_sample_with pause_5.wav: Cosine Similarity = 0.1450404822587595, Transcription Time = 1.649301528930664\n",
      "Processed 10_words_sample_1.wav: Cosine Similarity = 0.26055567105626243, Transcription Time = 1.5129544734954834\n",
      "Processed 10_words_sample_with pause_1.wav: Cosine Similarity = 0.9361362641191208, Transcription Time = 1.6535861492156982\n",
      "Processed 10_words_sample_2.wav: Cosine Similarity = 0.3575475209147722, Transcription Time = 1.5319039821624756\n",
      "Processed 10_words_sample_with pause_2.wav: Cosine Similarity = 0.9361362641191208, Transcription Time = 1.5967309474945068\n",
      "Processed 10_words_sample_3.wav: Cosine Similarity = 0.21528271546341884, Transcription Time = 1.636624813079834\n",
      "Processed 10_words_sample_with pause_3.wav: Cosine Similarity = 0.9266368211041915, Transcription Time = 1.7393519878387451\n",
      "Processed 10_words_sample_4.wav: Cosine Similarity = 0.11304078416613478, Transcription Time = 1.5628225803375244\n",
      "Processed 10_words_sample_with pause_4.wav: Cosine Similarity = 0.9138106509294462, Transcription Time = 1.6296439170837402\n",
      "Processed 10_words_sample_5.wav: Cosine Similarity = 0.14504048225875948, Transcription Time = 1.5318992137908936\n"
     ]
    },
    {
     "name": "stderr",
     "output_type": "stream",
     "text": [
      "Processing JSON files:  20%|██        | 2/10 [00:32<02:08, 16.11s/file]"
     ]
    },
    {
     "name": "stdout",
     "output_type": "stream",
     "text": [
      "Processed 10_words_sample_with pause_5.wav: Cosine Similarity = 0.8586557982260813, Transcription Time = 1.6685404777526855\n",
      "Processed 20_words_sample_1.wav: Cosine Similarity = 1.0000000000000004, Transcription Time = 1.9248547554016113\n",
      "Processed 20_words_sample_with pause_1.wav: Cosine Similarity = 0.9101113851286252, Transcription Time = 1.8969297409057617\n",
      "Processed 20_words_sample_2.wav: Cosine Similarity = 1.0, Transcription Time = 1.8171415328979492\n",
      "Processed 20_words_sample_with pause_2.wav: Cosine Similarity = 0.9596398661682171, Transcription Time = 1.9388184547424316\n",
      "Processed 20_words_sample_3.wav: Cosine Similarity = 0.9999999999999997, Transcription Time = 1.8580331802368164\n",
      "Processed 20_words_sample_with pause_3.wav: Cosine Similarity = 0.9999999999999997, Transcription Time = 1.8969309329986572\n",
      "Processed 20_words_sample_4.wav: Cosine Similarity = 0.9999999999999997, Transcription Time = 1.8460652828216553\n",
      "Processed 20_words_sample_with pause_4.wav: Cosine Similarity = 0.9999999999999997, Transcription Time = 2.2001194953918457\n",
      "Processed 20_words_sample_5.wav: Cosine Similarity = 0.9400966710533992, Transcription Time = 2.0336239337921143\n"
     ]
    },
    {
     "name": "stderr",
     "output_type": "stream",
     "text": [
      "Processing JSON files:  30%|███       | 3/10 [00:51<02:03, 17.63s/file]"
     ]
    },
    {
     "name": "stdout",
     "output_type": "stream",
     "text": [
      "Processed 20_words_sample_with pause_5.wav: Cosine Similarity = 1.0000000000000002, Transcription Time = 2.006636619567871\n",
      "Processed 20_words_sample_1.wav: Cosine Similarity = 0.8379045376520945, Transcription Time = 1.9936721324920654\n",
      "Processed 20_words_sample_with pause_1.wav: Cosine Similarity = 0.9174208172605055, Transcription Time = 2.0774478912353516\n",
      "Processed 20_words_sample_2.wav: Cosine Similarity = 0.9238026005035378, Transcription Time = 1.836092233657837\n",
      "Processed 20_words_sample_with pause_2.wav: Cosine Similarity = 0.8865178039130657, Transcription Time = 1.858034610748291\n",
      "Processed 20_words_sample_3.wav: Cosine Similarity = 0.9207401897413288, Transcription Time = 1.9198682308197021\n",
      "Processed 20_words_sample_with pause_3.wav: Cosine Similarity = 0.9207401897413288, Transcription Time = 1.9258537292480469\n",
      "Processed 20_words_sample_4.wav: Cosine Similarity = 0.9207401897413279, Transcription Time = 1.8690059185028076\n",
      "Processed 20_words_sample_with pause_4.wav: Cosine Similarity = 0.9207401897413279, Transcription Time = 1.9128859043121338\n",
      "Processed 20_words_sample_5.wav: Cosine Similarity = 0.8883845399667524, Transcription Time = 1.830108880996704\n"
     ]
    },
    {
     "name": "stderr",
     "output_type": "stream",
     "text": [
      "Processing JSON files:  40%|████      | 4/10 [01:10<01:49, 18.23s/file]"
     ]
    },
    {
     "name": "stdout",
     "output_type": "stream",
     "text": [
      "Processed 20_words_sample_with pause_5.wav: Cosine Similarity = 0.9434557355986908, Transcription Time = 1.8779809474945068\n",
      "Processed 30_words_sample_1.wav: Cosine Similarity = 0.9999999999999997, Transcription Time = 2.1422829627990723\n",
      "Processed 30_words_sample_with pause_1.wav: Cosine Similarity = 0.9026283183113566, Transcription Time = 2.430504322052002\n",
      "Processed 30_words_sample_2.wav: Cosine Similarity = 0.9999999999999994, Transcription Time = 2.194136619567871\n",
      "Processed 30_words_sample_with pause_2.wav: Cosine Similarity = 0.8138522919055411, Transcription Time = 2.2051050662994385\n",
      "Processed 30_words_sample_3.wav: Cosine Similarity = 1.0000000000000002, Transcription Time = 2.222059488296509\n",
      "Processed 30_words_sample_with pause_3.wav: Cosine Similarity = 0.9791966537124523, Transcription Time = 2.2689363956451416\n",
      "Processed 30_words_sample_4.wav: Cosine Similarity = 1.0000000000000002, Transcription Time = 2.2459967136383057\n",
      "Processed 30_words_sample_with pause_4.wav: Cosine Similarity = 0.864845235636748, Transcription Time = 2.311821460723877\n",
      "Processed 30_words_sample_5.wav: Cosine Similarity = 1.0, Transcription Time = 1.9866905212402344\n"
     ]
    },
    {
     "name": "stderr",
     "output_type": "stream",
     "text": [
      "Processing JSON files:  50%|█████     | 5/10 [01:33<01:38, 19.69s/file]"
     ]
    },
    {
     "name": "stdout",
     "output_type": "stream",
     "text": [
      "Processed 30_words_sample_with pause_5.wav: Cosine Similarity = 0.931461358465165, Transcription Time = 2.244001865386963\n",
      "Processed 30_words_sample_1.wav: Cosine Similarity = 0.8845737538593996, Transcription Time = 2.1951324939727783\n",
      "Processed 30_words_sample_with pause_1.wav: Cosine Similarity = 0.935751204688267, Transcription Time = 2.4045724868774414\n",
      "Processed 30_words_sample_2.wav: Cosine Similarity = 0.781535322530404, Transcription Time = 2.1552395820617676\n",
      "Processed 30_words_sample_with pause_2.wav: Cosine Similarity = 0.9529000740006429, Transcription Time = 2.2709298133850098\n",
      "Processed 30_words_sample_3.wav: Cosine Similarity = 0.8917020257670603, Transcription Time = 2.2200655937194824\n",
      "Processed 30_words_sample_with pause_3.wav: Cosine Similarity = 0.9090376755159724, Transcription Time = 2.2420077323913574\n",
      "Processed 30_words_sample_4.wav: Cosine Similarity = 0.832984165050738, Transcription Time = 2.3099260330200195\n",
      "Processed 30_words_sample_with pause_4.wav: Cosine Similarity = 0.9554223192364698, Transcription Time = 2.2858939170837402\n",
      "Processed 30_words_sample_5.wav: Cosine Similarity = 0.8960058560375699, Transcription Time = 2.095428466796875\n"
     ]
    },
    {
     "name": "stderr",
     "output_type": "stream",
     "text": [
      "Processing JSON files:  60%|██████    | 6/10 [01:55<01:22, 20.64s/file]"
     ]
    },
    {
     "name": "stdout",
     "output_type": "stream",
     "text": [
      "Processed 30_words_sample_with pause_5.wav: Cosine Similarity = 0.9604483248626403, Transcription Time = 2.2589645385742188\n",
      "Processed 40_words_sample_1.wav: Cosine Similarity = 1.0000000000000002, Transcription Time = 2.4324982166290283\n",
      "Processed 40_words_sample_with pause_1.wav: Cosine Similarity = 0.9755983610715643, Transcription Time = 2.4055705070495605\n",
      "Processed 40_words_sample_2.wav: Cosine Similarity = 1.0000000000000007, Transcription Time = 2.326782464981079\n",
      "Processed 40_words_sample_with pause_2.wav: Cosine Similarity = 0.9390904520133413, Transcription Time = 2.55617094039917\n",
      "Processed 40_words_sample_3.wav: Cosine Similarity = 0.8971762009003741, Transcription Time = 2.2703371047973633\n",
      "Processed 40_words_sample_with pause_3.wav: Cosine Similarity = 0.9299285686345931, Transcription Time = 2.3168065547943115\n",
      "Processed 40_words_sample_4.wav: Cosine Similarity = 0.9999999999999992, Transcription Time = 2.2948665618896484\n",
      "Processed 40_words_sample_with pause_4.wav: Cosine Similarity = 0.8155484244340074, Transcription Time = 2.6868200302124023\n",
      "Processed 40_words_sample_5.wav: Cosine Similarity = 1.0000000000000002, Transcription Time = 2.18416166305542\n"
     ]
    },
    {
     "name": "stderr",
     "output_type": "stream",
     "text": [
      "Processing JSON files:  70%|███████   | 7/10 [02:19<01:05, 21.73s/file]"
     ]
    },
    {
     "name": "stdout",
     "output_type": "stream",
     "text": [
      "Processed 40_words_sample_with pause_5.wav: Cosine Similarity = 0.8975380051197426, Transcription Time = 2.4863531589508057\n",
      "Processed 40_words_sample_1.wav: Cosine Similarity = 0.875746306137646, Transcription Time = 2.4305057525634766\n",
      "Processed 40_words_sample_with pause_1.wav: Cosine Similarity = 0.8955324150715732, Transcription Time = 2.5192666053771973\n",
      "Processed 40_words_sample_2.wav: Cosine Similarity = 0.8874159077294704, Transcription Time = 2.3267805576324463\n",
      "Processed 40_words_sample_with pause_2.wav: Cosine Similarity = 0.9143057862384296, Transcription Time = 2.564147472381592\n",
      "Processed 40_words_sample_3.wav: Cosine Similarity = 0.7795474421543919, Transcription Time = 2.2370200157165527\n",
      "Processed 40_words_sample_with pause_3.wav: Cosine Similarity = 0.9219942757300631, Transcription Time = 2.441474676132202\n",
      "Processed 40_words_sample_4.wav: Cosine Similarity = 0.8249305762475405, Transcription Time = 2.2739222049713135\n",
      "Processed 40_words_sample_with pause_4.wav: Cosine Similarity = 0.8678846619785666, Transcription Time = 2.5721261501312256\n",
      "Processed 40_words_sample_5.wav: Cosine Similarity = 0.9215669149768508, Transcription Time = 2.2739222049713135\n"
     ]
    },
    {
     "name": "stderr",
     "output_type": "stream",
     "text": [
      "Processing JSON files:  80%|████████  | 8/10 [02:43<00:44, 22.50s/file]"
     ]
    },
    {
     "name": "stdout",
     "output_type": "stream",
     "text": [
      "Processed 40_words_sample_with pause_5.wav: Cosine Similarity = 0.9032225618759107, Transcription Time = 2.4494540691375732\n",
      "Processed 50_words_sample_1.wav: Cosine Similarity = 1.0000000000000002, Transcription Time = 2.559157133102417\n",
      "Processed 50_words_sample_with pause_1.wav: Cosine Similarity = 0.9800376809663689, Transcription Time = 2.6604340076446533\n",
      "Processed 50_words_sample_2.wav: Cosine Similarity = 1.0000000000000007, Transcription Time = 2.4424710273742676\n",
      "Processed 50_words_sample_with pause_2.wav: Cosine Similarity = 0.9540892173387038, Transcription Time = 2.554109811782837\n",
      "Processed 50_words_sample_3.wav: Cosine Similarity = 1.0000000000000002, Transcription Time = 2.509294033050537\n",
      "Processed 50_words_sample_with pause_3.wav: Cosine Similarity = 0.9236502692895245, Transcription Time = 2.5920727252960205\n",
      "Processed 50_words_sample_4.wav: Cosine Similarity = 1.0000000000000002, Transcription Time = 2.394598960876465\n",
      "Processed 50_words_sample_with pause_4.wav: Cosine Similarity = 0.9837199769897543, Transcription Time = 2.450450897216797\n",
      "Processed 50_words_sample_5.wav: Cosine Similarity = 1.0000000000000004, Transcription Time = 2.606032609939575\n"
     ]
    },
    {
     "name": "stderr",
     "output_type": "stream",
     "text": [
      "Processing JSON files:  90%|█████████ | 9/10 [03:09<00:23, 23.44s/file]"
     ]
    },
    {
     "name": "stdout",
     "output_type": "stream",
     "text": [
      "Processed 50_words_sample_with pause_5.wav: Cosine Similarity = 0.7381335090196928, Transcription Time = 2.7227234840393066\n",
      "Processed 50_words_sample_1.wav: Cosine Similarity = 0.8542408211833338, Transcription Time = 2.5272490978240967\n",
      "Processed 50_words_sample_with pause_1.wav: Cosine Similarity = 0.8695641616041424, Transcription Time = 2.5671403408050537\n",
      "Processed 50_words_sample_2.wav: Cosine Similarity = 0.8408180853367483, Transcription Time = 2.4245195388793945\n",
      "Processed 50_words_sample_with pause_2.wav: Cosine Similarity = 0.8776782349316483, Transcription Time = 2.5551693439483643\n",
      "Processed 50_words_sample_3.wav: Cosine Similarity = 0.8619161172033042, Transcription Time = 2.526247978210449\n",
      "Processed 50_words_sample_with pause_3.wav: Cosine Similarity = 0.8830874083542424, Transcription Time = 2.6758480072021484\n",
      "Processed 50_words_sample_4.wav: Cosine Similarity = 0.8929821067965046, Transcription Time = 2.436497449874878\n",
      "Processed 50_words_sample_with pause_4.wav: Cosine Similarity = 0.9077604681050467, Transcription Time = 2.523252248764038\n",
      "Processed 50_words_sample_5.wav: Cosine Similarity = 0.8364912395044432, Transcription Time = 2.508295774459839\n"
     ]
    },
    {
     "name": "stderr",
     "output_type": "stream",
     "text": [
      "Processing JSON files: 100%|██████████| 10/10 [03:34<00:00, 21.48s/file]"
     ]
    },
    {
     "name": "stdout",
     "output_type": "stream",
     "text": [
      "Processed 50_words_sample_with pause_5.wav: Cosine Similarity = 0.7032825996613278, Transcription Time = 2.808494806289673\n",
      "Results written to ./proccessed/Oliver_base.csv\n"
     ]
    },
    {
     "name": "stderr",
     "output_type": "stream",
     "text": [
      "\n"
     ]
    }
   ],
   "source": [
    "process_files_and_save_to_csv_pandas(audio_folder_path, transcription_folder_path, model, csv_file_path1)"
   ]
  },
  {
   "cell_type": "code",
   "execution_count": null,
   "metadata": {},
   "outputs": [],
   "source": []
  }
 ],
 "metadata": {
  "kernelspec": {
   "display_name": "whisper",
   "language": "python",
   "name": "python3"
  },
  "language_info": {
   "codemirror_mode": {
    "name": "ipython",
    "version": 3
   },
   "file_extension": ".py",
   "mimetype": "text/x-python",
   "name": "python",
   "nbconvert_exporter": "python",
   "pygments_lexer": "ipython3",
   "version": "3.8.19"
  }
 },
 "nbformat": 4,
 "nbformat_minor": 2
}
