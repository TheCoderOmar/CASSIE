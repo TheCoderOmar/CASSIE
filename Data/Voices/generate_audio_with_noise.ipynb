{
 "cells": [
  {
   "cell_type": "code",
   "execution_count": 1,
   "metadata": {},
   "outputs": [],
   "source": [
    "import os\n",
    "from pydub import AudioSegment\n",
    "import numpy as np"
   ]
  },
  {
   "cell_type": "code",
   "execution_count": 2,
   "metadata": {},
   "outputs": [],
   "source": [
    "# Function to simulate the phone call effect and add white noise\n",
    "def process_audio(file_path, output_file_name):\n",
    "    # Load the audio file\n",
    "    audio = AudioSegment.from_wav(file_path)\n",
    "\n",
    "    # Simulate phone call effect by bandpass filtering (300Hz to 3400Hz)\n",
    "    phone_call_audio = audio.low_pass_filter(3400).high_pass_filter(300)\n",
    "\n",
    "    # Generate white noise\n",
    "    def generate_white_noise(duration_ms, sample_rate, volume_db=-50):  # Further reduced volume\n",
    "        num_samples = int((duration_ms / 1000.0) * sample_rate)\n",
    "        samples = np.random.normal(0, 1, num_samples)\n",
    "        samples = samples * (10 ** (volume_db / 20))  # Set volume\n",
    "        return AudioSegment(\n",
    "            samples.tobytes(),\n",
    "            frame_rate=sample_rate,\n",
    "            sample_width=2,  # 16-bit audio\n",
    "            channels=1       # Mono\n",
    "        )\n",
    "\n",
    "    # Get properties of the original audio\n",
    "    sample_rate = phone_call_audio.frame_rate\n",
    "    duration_ms = len(phone_call_audio)\n",
    "\n",
    "    # Generate white noise for the same duration as the audio\n",
    "    noise = generate_white_noise(duration_ms, sample_rate)\n",
    "\n",
    "    # Apply a low-pass filter to the noise to soften it\n",
    "    noise = noise.low_pass_filter(3000)  # Remove harsh higher frequencies\n",
    "\n",
    "    # Mix noise with the phone call audio at a lower ratio for clarity\n",
    "    mix_ratio = 0.4  # Adjust mix ratio for noise intensity\n",
    "    noisy_audio = phone_call_audio.overlay(noise - 30 * (1 - mix_ratio), position=0)  # Reduce noise volume\n",
    "\n",
    "    # Apply a high-pass filter to the noisy audio to enhance clarity\n",
    "    noisy_audio = noisy_audio.high_pass_filter(300)\n",
    "\n",
    "    # Export the noisy phone call audio with the same file name in the current directory\n",
    "    noisy_audio.export(output_file_name, format=\"wav\")\n",
    "    print(f\"Processed and exported: {output_file_name}\")"
   ]
  },
  {
   "cell_type": "code",
   "execution_count": 9,
   "metadata": {},
   "outputs": [],
   "source": [
    "# Directory containing the .wav files\n",
    "input_folder = 'Male British (Oliver)/'\n",
    "output_folder = 'Male British (Oliver) with Noise/'  # Current directory"
   ]
  },
  {
   "cell_type": "code",
   "execution_count": 10,
   "metadata": {},
   "outputs": [
    {
     "name": "stdout",
     "output_type": "stream",
     "text": [
      "Processed and exported: Male British (Oliver) with Noise/10_words_sample_1.wav\n",
      "Processed and exported: Male British (Oliver) with Noise/10_words_sample_2.wav\n",
      "Processed and exported: Male British (Oliver) with Noise/10_words_sample_3.wav\n",
      "Processed and exported: Male British (Oliver) with Noise/10_words_sample_4.wav\n",
      "Processed and exported: Male British (Oliver) with Noise/10_words_sample_5.wav\n",
      "Processed and exported: Male British (Oliver) with Noise/10_words_sample_with pause_1.wav\n",
      "Processed and exported: Male British (Oliver) with Noise/10_words_sample_with pause_2.wav\n",
      "Processed and exported: Male British (Oliver) with Noise/10_words_sample_with pause_3.wav\n",
      "Processed and exported: Male British (Oliver) with Noise/10_words_sample_with pause_4.wav\n",
      "Processed and exported: Male British (Oliver) with Noise/10_words_sample_with pause_5.wav\n",
      "Processed and exported: Male British (Oliver) with Noise/20_words_sample_1.wav\n",
      "Processed and exported: Male British (Oliver) with Noise/20_words_sample_2.wav\n",
      "Processed and exported: Male British (Oliver) with Noise/20_words_sample_3.wav\n",
      "Processed and exported: Male British (Oliver) with Noise/20_words_sample_4.wav\n",
      "Processed and exported: Male British (Oliver) with Noise/20_words_sample_5.wav\n",
      "Processed and exported: Male British (Oliver) with Noise/20_words_sample_with pause_1.wav\n",
      "Processed and exported: Male British (Oliver) with Noise/20_words_sample_with pause_2.wav\n",
      "Processed and exported: Male British (Oliver) with Noise/20_words_sample_with pause_3.wav\n",
      "Processed and exported: Male British (Oliver) with Noise/20_words_sample_with pause_4.wav\n",
      "Processed and exported: Male British (Oliver) with Noise/20_words_sample_with pause_5.wav\n",
      "Processed and exported: Male British (Oliver) with Noise/30_words_sample_1.wav\n",
      "Processed and exported: Male British (Oliver) with Noise/30_words_sample_2.wav\n",
      "Processed and exported: Male British (Oliver) with Noise/30_words_sample_3.wav\n",
      "Processed and exported: Male British (Oliver) with Noise/30_words_sample_4.wav\n",
      "Processed and exported: Male British (Oliver) with Noise/30_words_sample_5.wav\n",
      "Processed and exported: Male British (Oliver) with Noise/30_words_sample_with pause_1.wav\n",
      "Processed and exported: Male British (Oliver) with Noise/30_words_sample_with pause_2.wav\n",
      "Processed and exported: Male British (Oliver) with Noise/30_words_sample_with pause_3.wav\n",
      "Processed and exported: Male British (Oliver) with Noise/30_words_sample_with pause_4.wav\n",
      "Processed and exported: Male British (Oliver) with Noise/30_words_sample_with pause_5.wav\n",
      "Processed and exported: Male British (Oliver) with Noise/40_words_sample_1.wav\n",
      "Processed and exported: Male British (Oliver) with Noise/40_words_sample_2.wav\n",
      "Processed and exported: Male British (Oliver) with Noise/40_words_sample_3.wav\n",
      "Processed and exported: Male British (Oliver) with Noise/40_words_sample_4.wav\n",
      "Processed and exported: Male British (Oliver) with Noise/40_words_sample_5.wav\n",
      "Processed and exported: Male British (Oliver) with Noise/40_words_sample_with pause_1.wav\n",
      "Processed and exported: Male British (Oliver) with Noise/40_words_sample_with pause_2.wav\n",
      "Processed and exported: Male British (Oliver) with Noise/40_words_sample_with pause_3.wav\n",
      "Processed and exported: Male British (Oliver) with Noise/40_words_sample_with pause_4.wav\n",
      "Processed and exported: Male British (Oliver) with Noise/40_words_sample_with pause_5.wav\n",
      "Processed and exported: Male British (Oliver) with Noise/50_words_sample_1.wav\n",
      "Processed and exported: Male British (Oliver) with Noise/50_words_sample_2.wav\n",
      "Processed and exported: Male British (Oliver) with Noise/50_words_sample_3.wav\n",
      "Processed and exported: Male British (Oliver) with Noise/50_words_sample_4.wav\n",
      "Processed and exported: Male British (Oliver) with Noise/50_words_sample_5.wav\n",
      "Processed and exported: Male British (Oliver) with Noise/50_words_sample_with pause_1.wav\n",
      "Processed and exported: Male British (Oliver) with Noise/50_words_sample_with pause_2.wav\n",
      "Processed and exported: Male British (Oliver) with Noise/50_words_sample_with pause_3.wav\n",
      "Processed and exported: Male British (Oliver) with Noise/50_words_sample_with pause_4.wav\n",
      "Processed and exported: Male British (Oliver) with Noise/50_words_sample_with pause_5.wav\n"
     ]
    }
   ],
   "source": [
    "# Loop through all .wav files in the folder\n",
    "for file_name in os.listdir(input_folder):\n",
    "    if file_name.endswith(\".wav\"):\n",
    "        input_file_path = os.path.join(input_folder, file_name)\n",
    "        output_file_path = os.path.join(output_folder, file_name)\n",
    "\n",
    "        # Process each audio file and save it with the same name in the current folder\n",
    "        process_audio(input_file_path, output_file_path)"
   ]
  },
  {
   "cell_type": "code",
   "execution_count": null,
   "metadata": {},
   "outputs": [],
   "source": []
  }
 ],
 "metadata": {
  "kernelspec": {
   "display_name": "whisper",
   "language": "python",
   "name": "python3"
  },
  "language_info": {
   "codemirror_mode": {
    "name": "ipython",
    "version": 3
   },
   "file_extension": ".py",
   "mimetype": "text/x-python",
   "name": "python",
   "nbconvert_exporter": "python",
   "pygments_lexer": "ipython3",
   "version": "3.8.19"
  }
 },
 "nbformat": 4,
 "nbformat_minor": 2
}
