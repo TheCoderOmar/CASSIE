{
 "cells": [
  {
   "cell_type": "code",
   "execution_count": null,
   "metadata": {},
   "outputs": [],
   "source": [
    "import deepspeech\n",
    "import numpy as np\n",
    "import wave\n",
    "import os"
   ]
  },
  {
   "cell_type": "code",
   "execution_count": null,
   "metadata": {},
   "outputs": [],
   "source": [
    "MODEL_PATH = 'path/to/deepspeech-model.pbmm'\n",
    "SCORER_PATH = 'path/to/deepspeech-model.scorer'"
   ]
  },
  {
   "cell_type": "code",
   "execution_count": null,
   "metadata": {},
   "outputs": [],
   "source": [
    "# Load the DeepSpeech model\n",
    "ds = deepspeech.Model(MODEL_PATH)\n",
    "ds.enableExternalScorer(SCORER_PATH)"
   ]
  },
  {
   "cell_type": "code",
   "execution_count": null,
   "metadata": {},
   "outputs": [],
   "source": [
    "# Function to read and process audio files for DeepSpeech\n",
    "def read_audio(file_path):\n",
    "    with wave.open(file_path, 'rb') as wf:\n",
    "        # Ensure the audio file has the correct format (16kHz, 16-bit PCM)\n",
    "        if wf.getframerate() != 16000:\n",
    "            raise ValueError('Audio file must be 16kHz')\n",
    "        if wf.getsampwidth() != 2:\n",
    "            raise ValueError('Audio file must be 16-bit PCM')\n",
    "        if wf.getnchannels() != 1:\n",
    "            raise ValueError('Audio file must be mono')\n",
    "\n",
    "        # Read and return the audio as numpy array\n",
    "        audio = np.frombuffer(wf.readframes(wf.getnframes()), dtype=np.int16)\n",
    "        return audio"
   ]
  },
  {
   "cell_type": "code",
   "execution_count": null,
   "metadata": {},
   "outputs": [],
   "source": [
    "# Function to transcribe audio using DeepSpeech\n",
    "def transcribe_deepspeech(audio_file):\n",
    "    # Read the audio file\n",
    "    audio = read_audio(audio_file)\n",
    "    \n",
    "    # Perform inference with DeepSpeech\n",
    "    transcription = ds.stt(audio)\n",
    "    return transcription"
   ]
  },
  {
   "cell_type": "code",
   "execution_count": null,
   "metadata": {},
   "outputs": [],
   "source": [
    "# Example usage: loop through all audio files in a directory and transcribe them\n",
    "def batch_transcribe(directory):\n",
    "    for filename in os.listdir(directory):\n",
    "        if filename.endswith(\".wav\"):\n",
    "            audio_file = os.path.join(directory, filename)\n",
    "            transcription = transcribe_deepspeech(audio_file)\n",
    "            print(f\"Transcription for {filename}: {transcription}\")"
   ]
  },
  {
   "cell_type": "code",
   "execution_count": null,
   "metadata": {},
   "outputs": [],
   "source": []
  }
 ],
 "metadata": {
  "kernelspec": {
   "display_name": "whisper",
   "language": "python",
   "name": "python3"
  },
  "language_info": {
   "name": "python",
   "version": "3.8.19"
  }
 },
 "nbformat": 4,
 "nbformat_minor": 2
}
