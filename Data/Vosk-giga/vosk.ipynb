{
 "cells": [
  {
   "cell_type": "code",
   "execution_count": 15,
   "metadata": {},
   "outputs": [],
   "source": [
    "import os\n",
    "import time\n",
    "import json\n",
    "import pandas as pd\n",
    "from tqdm import tqdm\n",
    "from sklearn.feature_extraction.text import TfidfVectorizer\n",
    "from sklearn.metrics.pairwise import cosine_similarity\n",
    "from vosk import Model, KaldiRecognizer\n",
    "import wave"
   ]
  },
  {
   "cell_type": "code",
   "execution_count": 16,
   "metadata": {},
   "outputs": [],
   "source": [
    "def load_vosk_model(model_path):\n",
    "    return Model(model_path)"
   ]
  },
  {
   "cell_type": "code",
   "execution_count": 17,
   "metadata": {},
   "outputs": [],
   "source": [
    "# Get files in directory based on extension and optional keyword\n",
    "def get_files_in_directory(folder_path, file_extension, keyword=None):\n",
    "    if keyword:\n",
    "        return sorted([f for f in os.listdir(folder_path) if f.endswith(file_extension) and keyword in f])\n",
    "    else:\n",
    "        return sorted([f for f in os.listdir(folder_path) if f.endswith(file_extension)])"
   ]
  },
  {
   "cell_type": "code",
   "execution_count": 18,
   "metadata": {},
   "outputs": [],
   "source": [
    "# Load transcription data from JSON\n",
    "def load_transcription_data(json_file_path):\n",
    "    with open(json_file_path, 'r') as file:\n",
    "        return json.load(file)\n"
   ]
  },
  {
   "cell_type": "code",
   "execution_count": 19,
   "metadata": {},
   "outputs": [],
   "source": [
    "# Get matching transcription from transcription data\n",
    "def get_matching_transcription(transcription_data, sample_name):\n",
    "    return next((item['transcription'] for item in transcription_data if item['sample_name'] == sample_name), None)\n"
   ]
  },
  {
   "cell_type": "code",
   "execution_count": 20,
   "metadata": {},
   "outputs": [],
   "source": [
    "# Function to transcribe audio using Vosk and measure time\n",
    "def transcribe_audio_with_time(vosk_model, wav_file_path):\n",
    "    wf = wave.open(wav_file_path, \"rb\")\n",
    "    \n",
    "    if wf.getnchannels() != 1 or wf.getsampwidth() != 2 or wf.getcomptype() != \"NONE\":\n",
    "        print(f\"Audio file {wav_file_path} must be WAV format mono PCM.\")\n",
    "        return None, 0\n",
    "\n",
    "    rec = KaldiRecognizer(vosk_model, wf.getframerate())\n",
    "    \n",
    "    start_time = time.time()\n",
    "    transcription_text = \"\"\n",
    "    \n",
    "    while True:\n",
    "        data = wf.readframes(4000)\n",
    "        if len(data) == 0:\n",
    "            break\n",
    "        if rec.AcceptWaveform(data):\n",
    "            transcription_result = rec.Result()\n",
    "            transcription_text += json.loads(transcription_result)[\"text\"]\n",
    "    \n",
    "    wf.close()\n",
    "    end_time = time.time()\n",
    "    transcription_time = end_time - start_time\n",
    "    \n",
    "    return transcription_text, transcription_time\n"
   ]
  },
  {
   "cell_type": "code",
   "execution_count": 21,
   "metadata": {},
   "outputs": [],
   "source": [
    "# Write results to CSV\n",
    "def write_results_to_csv_pandas(csv_file_path, results):\n",
    "    df = pd.DataFrame(results, columns=[\"File\", \"Vosk Output\", \"Correct Transcription\", \"Cosine Similarity\", \"Transcription Time\"])\n",
    "    df.to_csv(csv_file_path, index=False)\n"
   ]
  },
  {
   "cell_type": "code",
   "execution_count": 22,
   "metadata": {},
   "outputs": [],
   "source": [
    "# Calculate cosine similarity between reference and hypothesis\n",
    "def calculate_cosine_similarity(reference, hypothesis):\n",
    "    vectorizer = TfidfVectorizer().fit_transform([reference, hypothesis])\n",
    "    vectors = vectorizer.toarray()\n",
    "    cos_sim = cosine_similarity(vectors)[0, 1]\n",
    "    return cos_sim\n"
   ]
  },
  {
   "cell_type": "code",
   "execution_count": 23,
   "metadata": {},
   "outputs": [],
   "source": [
    "# Process files and save results to CSV\n",
    "def process_files_and_save_to_csv_pandas(audio_folder_path, transcription_folder_path, vosk_model, csv_file_path):\n",
    "    # Get list of audio files and transcription JSON files from their respective directories\n",
    "    wav_files = get_files_in_directory(audio_folder_path, '.wav')\n",
    "    json_files = get_files_in_directory(transcription_folder_path, '.json', keyword='_transcription')\n",
    "    \n",
    "    results = []\n",
    "    \n",
    "    for json_file in tqdm(json_files, desc=\"Processing JSON files\", unit=\"file\"):\n",
    "        # Load the transcription data from JSON\n",
    "        json_path = os.path.join(transcription_folder_path, json_file)\n",
    "        transcription_data = load_transcription_data(json_path)\n",
    "        \n",
    "        # Determine if the file is \"with pause\" or \"no pause\"\n",
    "        is_with_pause = \"_with_pause\" in json_file\n",
    "        \n",
    "        # Create the base name based on the transcription file\n",
    "        base_name = json_file.replace(\"_transcription_with_pause\", \"\").replace(\"_transcription\", \"\").replace(\".json\", \"\")\n",
    "        \n",
    "        for i in tqdm(range(1, 6), desc=f\"Processing {json_file}\", leave=False, unit=\"sample\"):\n",
    "            # Construct the expected audio file name\n",
    "            if is_with_pause:\n",
    "                wav_file = f\"{base_name}_with_pause_{i}.wav\"\n",
    "            else:\n",
    "                wav_file = f\"{base_name}_{i}.wav\"\n",
    "            \n",
    "            wav_path = os.path.join(audio_folder_path, wav_file)\n",
    "            \n",
    "            if not os.path.exists(wav_path):\n",
    "                print(f\"Audio file {wav_file} not found.\")\n",
    "                continue\n",
    "            \n",
    "            sample_name = f\"sample_{i}\"\n",
    "            correct_transcription = get_matching_transcription(transcription_data, sample_name)\n",
    "            \n",
    "            if not correct_transcription:\n",
    "                print(f\"No matching transcription found for {wav_file} in {json_file}.\")\n",
    "                continue\n",
    "            \n",
    "            # Transcribe the audio and measure time\n",
    "            vosk_output, transcription_time = transcribe_audio_with_time(vosk_model, wav_path)\n",
    "            \n",
    "            if vosk_output is None:\n",
    "                continue\n",
    "            \n",
    "            # Calculate cosine similarity\n",
    "            cosine_sim = calculate_cosine_similarity(correct_transcription, vosk_output)\n",
    "            \n",
    "            # Store result in the list\n",
    "            results.append([wav_file, vosk_output, correct_transcription, cosine_sim, transcription_time])\n",
    "    \n",
    "    # Write results to CSV using pandas\n",
    "    write_results_to_csv_pandas(csv_file_path, results)"
   ]
  },
  {
   "cell_type": "code",
   "execution_count": 24,
   "metadata": {},
   "outputs": [],
   "source": [
    "vosk_model = load_vosk_model(\"../../../vosk-model-en-us-0.42-gigaspeech/\") "
   ]
  },
  {
   "cell_type": "code",
   "execution_count": 25,
   "metadata": {},
   "outputs": [],
   "source": [
    "folder_path1 = \"../Voices/Female American (Nova)/no pause\"\n",
    "transcription_folder_path1 = \"../Voices/Transcription/no pause\"\n",
    "csv_file_path1 = \"processed/Nova_no_pause.csv\""
   ]
  },
  {
   "cell_type": "code",
   "execution_count": 26,
   "metadata": {},
   "outputs": [],
   "source": [
    "folder_path2 = \"../Voices/Female American (Nova)/with pause/\"\n",
    "transcription_folder_path2 = \"../Voices/Transcription/with pause\"\n",
    "csv_file_path2 = \"processed/Nova_with_pause.csv\""
   ]
  },
  {
   "cell_type": "code",
   "execution_count": 27,
   "metadata": {},
   "outputs": [],
   "source": [
    "folder_path3 = \"../Voices/Female American (Nova) with Noise/no pause/\"\n",
    "transcription_folder_path3 = \"../Voices/Transcription/no pause\"\n",
    "csv_file_path3 = \"processed/Nova_Noise_no_pause.csv\""
   ]
  },
  {
   "cell_type": "code",
   "execution_count": 28,
   "metadata": {},
   "outputs": [],
   "source": [
    "folder_path4 = \"../Voices/Female American (Nova) with Noise/with pause/\"\n",
    "transcription_folder_path4 = \"../Voices/Transcription/with pause\"\n",
    "csv_file_path4 = \"processed/Nova_Noise_with_pause.csv\""
   ]
  },
  {
   "cell_type": "code",
   "execution_count": 29,
   "metadata": {},
   "outputs": [],
   "source": [
    "folder_path5 = \"../Voices/Female British (Madelyn)/no pause/\"\n",
    "transcription_folder_path5 = \"../Voices/Transcription/no pause\"\n",
    "csv_file_path5 = \"processed/Madelyn_no_pause.csv\""
   ]
  },
  {
   "cell_type": "code",
   "execution_count": 30,
   "metadata": {},
   "outputs": [],
   "source": [
    "folder_path6 = \"../Voices/Female British (Madelyn)/with pause/\"\n",
    "transcription_folder_path6 = \"../Voices/Transcription/with pause\"\n",
    "csv_file_path6 = \"processed/Madelyn_with_pause.csv\""
   ]
  },
  {
   "cell_type": "code",
   "execution_count": 31,
   "metadata": {},
   "outputs": [],
   "source": [
    "folder_path7 = \"../Voices/Female British (Madelyn) with Noise/with pause/\"\n",
    "transcription_folder_path7 = \"../Voices/Transcription/with pause\"\n",
    "csv_file_path7 = \"processed/Madelyn_Noise_with_pause.csv\""
   ]
  },
  {
   "cell_type": "code",
   "execution_count": 32,
   "metadata": {},
   "outputs": [],
   "source": [
    "folder_path8 = \"../Voices/Female British (Madelyn) with Noise/no pause/\"\n",
    "transcription_folder_path8 = \"../Voices/Transcription/no pause\"\n",
    "csv_file_path8 = \"processed/Madelyn_Noise_no_pause.csv\""
   ]
  },
  {
   "cell_type": "code",
   "execution_count": 33,
   "metadata": {},
   "outputs": [],
   "source": [
    "folder_path9 = \"../Voices/Male American (Michael)/no pause/\"\n",
    "transcription_folder_path9 = \"../Voices/Transcription/no pause\"\n",
    "csv_file_path9 = \"processed/Michael_no_pause.csv\""
   ]
  },
  {
   "cell_type": "code",
   "execution_count": 34,
   "metadata": {},
   "outputs": [],
   "source": [
    "folder_path10 = \"../Voices/Male American (Michael)/with pause/\"\n",
    "transcription_folder_path10 = \"../Voices/Transcription/with pause\"\n",
    "csv_file_path10 = \"processed/Michael_with_pause.csv\""
   ]
  },
  {
   "cell_type": "code",
   "execution_count": 35,
   "metadata": {},
   "outputs": [],
   "source": [
    "folder_path11 = \"../Voices/Male American (Michael) with Noise/no pause/\"\n",
    "transcription_folder_path11 = \"../Voices/Transcription/no pause\"\n",
    "csv_file_path11 = \"processed/Michael_Noise_no_pause.csv\""
   ]
  },
  {
   "cell_type": "code",
   "execution_count": 36,
   "metadata": {},
   "outputs": [],
   "source": [
    "folder_path12 = \"../Voices/Male American (Michael) with Noise/with pause/\"\n",
    "transcription_folder_path12 = \"../Voices/Transcription/with pause\"\n",
    "csv_file_path12 = \"processed/Michael_Noise_with_pause.csv\""
   ]
  },
  {
   "cell_type": "code",
   "execution_count": 37,
   "metadata": {},
   "outputs": [],
   "source": [
    "folder_path13 = \"../Voices/Male British (Oliver)/no pause/\"\n",
    "transcription_folder_path13 = \"../Voices/Transcription/no pause\"\n",
    "csv_file_path13 = \"processed/Oliver_no_pause.csv\""
   ]
  },
  {
   "cell_type": "code",
   "execution_count": 38,
   "metadata": {},
   "outputs": [],
   "source": [
    "folder_path14 = \"../Voices/Male British (Oliver)/with pause/\"\n",
    "transcription_folder_path14 = \"../Voices/Transcription/with pause\"\n",
    "csv_file_path14 = \"processed/Oliver_with_pause.csv\""
   ]
  },
  {
   "cell_type": "code",
   "execution_count": 39,
   "metadata": {},
   "outputs": [],
   "source": [
    "folder_path15 = \"../Voices/Male British (Oliver) with Noise/no pause/\"\n",
    "transcription_folder_path15 = \"../Voices/Transcription/no pause\"\n",
    "csv_file_path15 = \"processed/Oliver_Noise_no_pause.csv\""
   ]
  },
  {
   "cell_type": "code",
   "execution_count": 40,
   "metadata": {},
   "outputs": [],
   "source": [
    "folder_path16 = \"../Voices/Male British (Oliver) with Noise/with pause/\"\n",
    "transcription_folder_path16 = \"../Voices/Transcription/with pause\"\n",
    "csv_file_path16 = \"processed/Oliver_Noise_with_pause.csv\""
   ]
  },
  {
   "cell_type": "code",
   "execution_count": 41,
   "metadata": {},
   "outputs": [],
   "source": [
    "import warnings\n",
    "\n",
    "# Suppress the FP16 warning\n",
    "warnings.filterwarnings(\"ignore\", message=\"FP16 is not supported on CPU; using FP32 instead\")"
   ]
  },
  {
   "cell_type": "code",
   "execution_count": 43,
   "metadata": {},
   "outputs": [
    {
     "name": "stderr",
     "output_type": "stream",
     "text": [
      "Processing JSON files: 100%|██████████| 5/5 [01:40<00:00, 20.07s/file]\n",
      "Processing JSON files: 100%|██████████| 5/5 [02:32<00:00, 30.60s/file]\n",
      "Processing JSON files: 100%|██████████| 5/5 [01:42<00:00, 20.46s/file]\n",
      "Processing JSON files: 100%|██████████| 5/5 [02:38<00:00, 31.73s/file]\n",
      "Processing JSON files: 100%|██████████| 5/5 [01:46<00:00, 21.32s/file]\n",
      "Processing JSON files: 100%|██████████| 5/5 [02:19<00:00, 27.92s/file]\n",
      "Processing JSON files: 100%|██████████| 5/5 [02:26<00:00, 29.38s/file]\n",
      "Processing JSON files: 100%|██████████| 5/5 [01:47<00:00, 21.46s/file]\n",
      "Processing JSON files: 100%|██████████| 5/5 [01:34<00:00, 18.90s/file]\n",
      "Processing JSON files: 100%|██████████| 5/5 [02:22<00:00, 28.53s/file]\n",
      "Processing JSON files: 100%|██████████| 5/5 [01:35<00:00, 19.15s/file]\n",
      "Processing JSON files: 100%|██████████| 5/5 [02:29<00:00, 29.83s/file]\n",
      "Processing JSON files: 100%|██████████| 5/5 [01:52<00:00, 22.43s/file]\n",
      "Processing JSON files: 100%|██████████| 5/5 [02:26<00:00, 29.32s/file]\n",
      "Processing JSON files: 100%|██████████| 5/5 [01:52<00:00, 22.57s/file]\n",
      "Processing JSON files: 100%|██████████| 5/5 [02:27<00:00, 29.57s/file]\n"
     ]
    }
   ],
   "source": [
    "process_files_and_save_to_csv_pandas(folder_path1,transcription_folder_path1, vosk_model, csv_file_path1)\n",
    "process_files_and_save_to_csv_pandas(folder_path2,transcription_folder_path2, vosk_model, csv_file_path2)\n",
    "process_files_and_save_to_csv_pandas(folder_path3,transcription_folder_path3, vosk_model, csv_file_path3)\n",
    "process_files_and_save_to_csv_pandas(folder_path4,transcription_folder_path4, vosk_model, csv_file_path4)\n",
    "process_files_and_save_to_csv_pandas(folder_path5,transcription_folder_path5, vosk_model, csv_file_path5)\n",
    "process_files_and_save_to_csv_pandas(folder_path6,transcription_folder_path6, vosk_model, csv_file_path6)\n",
    "process_files_and_save_to_csv_pandas(folder_path7,transcription_folder_path7, vosk_model, csv_file_path7)\n",
    "process_files_and_save_to_csv_pandas(folder_path8,transcription_folder_path8, vosk_model, csv_file_path8)\n",
    "process_files_and_save_to_csv_pandas(folder_path9,transcription_folder_path9, vosk_model, csv_file_path9)\n",
    "process_files_and_save_to_csv_pandas(folder_path10,transcription_folder_path10, vosk_model, csv_file_path10)\n",
    "process_files_and_save_to_csv_pandas(folder_path11,transcription_folder_path11, vosk_model, csv_file_path11)\n",
    "process_files_and_save_to_csv_pandas(folder_path12,transcription_folder_path12, vosk_model, csv_file_path12)\n",
    "process_files_and_save_to_csv_pandas(folder_path13,transcription_folder_path13, vosk_model, csv_file_path13)\n",
    "process_files_and_save_to_csv_pandas(folder_path14,transcription_folder_path14, vosk_model, csv_file_path14)\n",
    "process_files_and_save_to_csv_pandas(folder_path15,transcription_folder_path15, vosk_model, csv_file_path15)\n",
    "process_files_and_save_to_csv_pandas(folder_path16,transcription_folder_path16, vosk_model, csv_file_path16)"
   ]
  },
  {
   "cell_type": "code",
   "execution_count": null,
   "metadata": {},
   "outputs": [],
   "source": []
  }
 ],
 "metadata": {
  "kernelspec": {
   "display_name": "whisper",
   "language": "python",
   "name": "python3"
  },
  "language_info": {
   "codemirror_mode": {
    "name": "ipython",
    "version": 3
   },
   "file_extension": ".py",
   "mimetype": "text/x-python",
   "name": "python",
   "nbconvert_exporter": "python",
   "pygments_lexer": "ipython3",
   "version": "3.8.19"
  }
 },
 "nbformat": 4,
 "nbformat_minor": 2
}
